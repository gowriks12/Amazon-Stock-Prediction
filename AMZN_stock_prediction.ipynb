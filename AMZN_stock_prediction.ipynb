{
 "cells": [
  {
   "cell_type": "code",
   "execution_count": 1,
   "id": "11d48d80",
   "metadata": {},
   "outputs": [],
   "source": [
    "# IMPORTING IMPORTANT LIBRARIES\n",
    "import pandas as pd\n",
    "import tensorflow as tf\n",
    "import matplotlib.pyplot as plt\n",
    "import numpy as np \n",
    "import math\n",
    "from sklearn.preprocessing import MinMaxScaler\n",
    "from sklearn.metrics import mean_squared_error\n",
    "from keras.models import Sequential\n",
    "from keras.layers import Dense, Activation, Dropout\n",
    "from keras.layers import LSTM\n",
    "import preprocessing\n",
    "import yfinance as yf\n",
    "\n",
    "# FOR REPRODUCIBILITY\n",
    "np.random.seed(7)"
   ]
  },
  {
   "cell_type": "code",
   "execution_count": 2,
   "id": "b52fb67d",
   "metadata": {},
   "outputs": [
    {
     "data": {
      "text/html": [
       "<div>\n",
       "<style scoped>\n",
       "    .dataframe tbody tr th:only-of-type {\n",
       "        vertical-align: middle;\n",
       "    }\n",
       "\n",
       "    .dataframe tbody tr th {\n",
       "        vertical-align: top;\n",
       "    }\n",
       "\n",
       "    .dataframe thead th {\n",
       "        text-align: right;\n",
       "    }\n",
       "</style>\n",
       "<table border=\"1\" class=\"dataframe\">\n",
       "  <thead>\n",
       "    <tr style=\"text-align: right;\">\n",
       "      <th></th>\n",
       "      <th>Open</th>\n",
       "      <th>High</th>\n",
       "      <th>Low</th>\n",
       "      <th>Close</th>\n",
       "    </tr>\n",
       "  </thead>\n",
       "  <tbody>\n",
       "    <tr>\n",
       "      <th>0</th>\n",
       "      <td>215.490005</td>\n",
       "      <td>216.080002</td>\n",
       "      <td>213.000000</td>\n",
       "      <td>213.490005</td>\n",
       "    </tr>\n",
       "    <tr>\n",
       "      <th>1</th>\n",
       "      <td>214.990005</td>\n",
       "      <td>215.600006</td>\n",
       "      <td>210.350006</td>\n",
       "      <td>214.179993</td>\n",
       "    </tr>\n",
       "    <tr>\n",
       "      <th>2</th>\n",
       "      <td>224.389999</td>\n",
       "      <td>227.199997</td>\n",
       "      <td>219.619995</td>\n",
       "      <td>222.520004</td>\n",
       "    </tr>\n",
       "    <tr>\n",
       "      <th>3</th>\n",
       "      <td>223.270004</td>\n",
       "      <td>225.949997</td>\n",
       "      <td>220.229996</td>\n",
       "      <td>223.899994</td>\n",
       "    </tr>\n",
       "    <tr>\n",
       "      <th>4</th>\n",
       "      <td>221.289993</td>\n",
       "      <td>225.750000</td>\n",
       "      <td>219.509995</td>\n",
       "      <td>222.520004</td>\n",
       "    </tr>\n",
       "  </tbody>\n",
       "</table>\n",
       "</div>"
      ],
      "text/plain": [
       "         Open        High         Low       Close\n",
       "0  215.490005  216.080002  213.000000  213.490005\n",
       "1  214.990005  215.600006  210.350006  214.179993\n",
       "2  224.389999  227.199997  219.619995  222.520004\n",
       "3  223.270004  225.949997  220.229996  223.899994\n",
       "4  221.289993  225.750000  219.509995  222.520004"
      ]
     },
     "execution_count": 2,
     "metadata": {},
     "output_type": "execute_result"
    }
   ],
   "source": [
    "# IMPORTING DATASET \n",
    "#Training dataset\n",
    "dataset_train = pd.read_csv('AMZN-8Y-train.csv', usecols=[1,2,3,4])\n",
    "dataset_train.head()"
   ]
  },
  {
   "cell_type": "code",
   "execution_count": 3,
   "id": "0519a725",
   "metadata": {},
   "outputs": [
    {
     "name": "stdout",
     "output_type": "stream",
     "text": [
      "[*********************100%***********************]  1 of 1 completed\n"
     ]
    },
    {
     "data": {
      "text/html": [
       "<div>\n",
       "<style scoped>\n",
       "    .dataframe tbody tr th:only-of-type {\n",
       "        vertical-align: middle;\n",
       "    }\n",
       "\n",
       "    .dataframe tbody tr th {\n",
       "        vertical-align: top;\n",
       "    }\n",
       "\n",
       "    .dataframe thead th {\n",
       "        text-align: right;\n",
       "    }\n",
       "</style>\n",
       "<table border=\"1\" class=\"dataframe\">\n",
       "  <thead>\n",
       "    <tr style=\"text-align: right;\">\n",
       "      <th></th>\n",
       "      <th>Open</th>\n",
       "      <th>High</th>\n",
       "      <th>Low</th>\n",
       "      <th>Close</th>\n",
       "    </tr>\n",
       "    <tr>\n",
       "      <th>Date</th>\n",
       "      <th></th>\n",
       "      <th></th>\n",
       "      <th></th>\n",
       "      <th></th>\n",
       "    </tr>\n",
       "  </thead>\n",
       "  <tbody>\n",
       "    <tr>\n",
       "      <th>2020-10-02</th>\n",
       "      <td>3153.629883</td>\n",
       "      <td>3195.800049</td>\n",
       "      <td>3123.000000</td>\n",
       "      <td>3125.000000</td>\n",
       "    </tr>\n",
       "    <tr>\n",
       "      <th>2020-10-05</th>\n",
       "      <td>3145.840088</td>\n",
       "      <td>3202.530029</td>\n",
       "      <td>3140.850098</td>\n",
       "      <td>3199.199951</td>\n",
       "    </tr>\n",
       "    <tr>\n",
       "      <th>2020-10-06</th>\n",
       "      <td>3165.000000</td>\n",
       "      <td>3182.000000</td>\n",
       "      <td>3090.000000</td>\n",
       "      <td>3099.959961</td>\n",
       "    </tr>\n",
       "    <tr>\n",
       "      <th>2020-10-07</th>\n",
       "      <td>3135.000000</td>\n",
       "      <td>3200.000000</td>\n",
       "      <td>3132.389893</td>\n",
       "      <td>3195.689941</td>\n",
       "    </tr>\n",
       "    <tr>\n",
       "      <th>2020-10-08</th>\n",
       "      <td>3224.989990</td>\n",
       "      <td>3233.290039</td>\n",
       "      <td>3174.989990</td>\n",
       "      <td>3190.550049</td>\n",
       "    </tr>\n",
       "  </tbody>\n",
       "</table>\n",
       "</div>"
      ],
      "text/plain": [
       "                   Open         High          Low        Close\n",
       "Date                                                          \n",
       "2020-10-02  3153.629883  3195.800049  3123.000000  3125.000000\n",
       "2020-10-05  3145.840088  3202.530029  3140.850098  3199.199951\n",
       "2020-10-06  3165.000000  3182.000000  3090.000000  3099.959961\n",
       "2020-10-07  3135.000000  3200.000000  3132.389893  3195.689941\n",
       "2020-10-08  3224.989990  3233.290039  3174.989990  3190.550049"
      ]
     },
     "execution_count": 3,
     "metadata": {},
     "output_type": "execute_result"
    }
   ],
   "source": [
    "#Testing dataset \n",
    "dataset_test=yf.download(tickers='AMZN',period='1y',interval='1d')\n",
    "dataset_test=dataset_test.iloc[:,0:4]\n",
    "test_dates=dataset_test.index\n",
    "dataset_test.head()\n"
   ]
  },
  {
   "cell_type": "code",
   "execution_count": 4,
   "id": "6dc21a2b",
   "metadata": {},
   "outputs": [],
   "source": [
    "# CREATING OWN INDEX FOR FLEXIBILITY\n",
    "obs_train = np.arange(1, len(dataset_train) + 1, 1)\n",
    "obs_test = np.arange(1, len(dataset_test) + 1, 1)\n",
    "obs=np.arange(1, len(dataset_test)+len(dataset_train) + 1, 1)\n"
   ]
  },
  {
   "cell_type": "code",
   "execution_count": 5,
   "id": "0aab16eb",
   "metadata": {},
   "outputs": [],
   "source": [
    "# TAKING DIFFERENT INDICATORS FOR PREDICTION\n",
    "#Train\n",
    "OHLC_avg_train = dataset_train.mean(axis = 1)\n",
    "OHLC_avg_test = dataset_test.mean(axis = 1)\n",
    "OHLC_avg=np.concatenate((OHLC_avg_train,OHLC_avg_test),axis=0)"
   ]
  },
  {
   "cell_type": "code",
   "execution_count": 6,
   "id": "adb29cb7",
   "metadata": {},
   "outputs": [
    {
     "data": {
      "image/png": "[encoded data removed]",
      "text/plain": [
       "<Figure size 432x288 with 1 Axes>"
      ]
     },
     "metadata": {
      "needs_background": "light"
     },
     "output_type": "display_data"
    }
   ],
   "source": [
    "# PLOTTING ALL INDICATORS IN ONE PLOT\n",
    "#train\n",
    "plt.plot(obs_train, OHLC_avg_train, 'r', label = 'OHLC avg')\n",
    "plt.legend(loc = 'upper left')\n",
    "plt.show()\n"
   ]
  },
  {
   "cell_type": "code",
   "execution_count": 7,
   "id": "9aa29519",
   "metadata": {},
   "outputs": [
    {
     "data": {
      "image/png": "[encoded data removed]",
      "text/plain": [
       "<Figure size 432x288 with 1 Axes>"
      ]
     },
     "metadata": {
      "needs_background": "light"
     },
     "output_type": "display_data"
    }
   ],
   "source": [
    "plt.plot(obs_test, OHLC_avg_test, 'b', label = 'OHLC avg')\n",
    "plt.legend(loc = 'upper left')\n",
    "plt.show()"
   ]
  },
  {
   "cell_type": "code",
   "execution_count": 8,
   "id": "6c235234",
   "metadata": {},
   "outputs": [],
   "source": [
    "# PREPARATION OF TIME SERIES DATASE\n",
    "#Train\n",
    "OHLC_avg_train = np.reshape(OHLC_avg_train.values, (len(OHLC_avg_train),1)) \n",
    "OHLC_avg_test = np.reshape(OHLC_avg_test.values, (len(OHLC_avg_test),1))\n",
    "\n",
    "scaler = MinMaxScaler(feature_range=(0, 1))\n",
    "OHLC_avg_train = scaler.fit_transform(OHLC_avg_train)\n",
    "#print(OHLC_avg_train)\n",
    "#Test\n",
    "OHLC_avg_test = scaler.fit_transform(OHLC_avg_test)\n",
    "#print(OHLC_avg_test)\n",
    "OHLC_avg=np.concatenate((OHLC_avg_train,OHLC_avg_test),axis=0)\n"
   ]
  },
  {
   "cell_type": "code",
   "execution_count": 9,
   "id": "24b9e09b",
   "metadata": {},
   "outputs": [],
   "source": [
    "train_OHLC=OHLC_avg_train\n",
    "test_OHLC=OHLC_avg_test"
   ]
  },
  {
   "cell_type": "code",
   "execution_count": 10,
   "id": "2d1d8493",
   "metadata": {},
   "outputs": [],
   "source": [
    "# TIME-SERIES DATASET (FOR TIME T, VALUES FOR TIME T+1)\n",
    "trainX, trainY = preprocessing.new_dataset(train_OHLC, 1)\n",
    "testX, testY = preprocessing.new_dataset(test_OHLC, 1)"
   ]
  },
  {
   "cell_type": "code",
   "execution_count": 11,
   "id": "e9d6e990",
   "metadata": {},
   "outputs": [],
   "source": [
    "# RESHAPING TRAIN AND TEST DATA\n",
    "trainX = np.reshape(trainX, (trainX.shape[0], 1, trainX.shape[1]))\n",
    "#print(trainX)\n",
    "testX = np.reshape(testX, (testX.shape[0], 1, testX.shape[1]))\n",
    "#print(testX)"
   ]
  },
  {
   "cell_type": "code",
   "execution_count": 12,
   "id": "2ac5ddb7",
   "metadata": {},
   "outputs": [],
   "source": [
    "step_size = 1\n",
    "# LSTM MODEL\n",
    "model = Sequential()\n",
    "model.add(LSTM(32, input_shape=(1, step_size), return_sequences = True))\n",
    "model.add(Dropout(0.2))\n",
    "model.add(LSTM(16, return_sequences = True))\n",
    "model.add(Dropout(0.2))\n",
    "model.add(LSTM(8))\n",
    "model.add(Dropout(0.1))\n",
    "model.add(Dense(1))\n",
    "model.add(Activation('linear'))"
   ]
  },
  {
   "cell_type": "code",
   "execution_count": 13,
   "id": "ace363ce",
   "metadata": {},
   "outputs": [
    {
     "name": "stdout",
     "output_type": "stream",
     "text": [
      "Epoch 1/150\n",
      "201/201 - 29s - loss: 0.0773\n",
      "Epoch 2/150\n",
      "201/201 - 1s - loss: 0.0089\n",
      "Epoch 3/150\n",
      "201/201 - 1s - loss: 0.0061\n",
      "Epoch 4/150\n",
      "201/201 - 1s - loss: 0.0052\n",
      "Epoch 5/150\n",
      "201/201 - 1s - loss: 0.0041\n",
      "Epoch 6/150\n",
      "201/201 - 1s - loss: 0.0047\n",
      "Epoch 7/150\n",
      "201/201 - 1s - loss: 0.0032\n",
      "Epoch 8/150\n",
      "201/201 - 1s - loss: 0.0038\n",
      "Epoch 9/150\n",
      "201/201 - 1s - loss: 0.0031\n",
      "Epoch 10/150\n",
      "201/201 - 1s - loss: 0.0029\n",
      "Epoch 11/150\n",
      "201/201 - 1s - loss: 0.0029\n",
      "Epoch 12/150\n",
      "201/201 - 1s - loss: 0.0028\n",
      "Epoch 13/150\n",
      "201/201 - 1s - loss: 0.0029\n",
      "Epoch 14/150\n",
      "201/201 - 1s - loss: 0.0028\n",
      "Epoch 15/150\n",
      "201/201 - 1s - loss: 0.0028\n",
      "Epoch 16/150\n",
      "201/201 - 1s - loss: 0.0029\n",
      "Epoch 17/150\n",
      "201/201 - 1s - loss: 0.0025\n",
      "Epoch 18/150\n",
      "201/201 - 1s - loss: 0.0028\n",
      "Epoch 19/150\n",
      "201/201 - 1s - loss: 0.0026\n",
      "Epoch 20/150\n",
      "201/201 - 1s - loss: 0.0028\n",
      "Epoch 21/150\n",
      "201/201 - 1s - loss: 0.0025\n",
      "Epoch 22/150\n",
      "201/201 - 1s - loss: 0.0028\n",
      "Epoch 23/150\n",
      "201/201 - 1s - loss: 0.0027\n",
      "Epoch 24/150\n",
      "201/201 - 1s - loss: 0.0027\n",
      "Epoch 25/150\n",
      "201/201 - 1s - loss: 0.0025\n",
      "Epoch 26/150\n",
      "201/201 - 1s - loss: 0.0026\n",
      "Epoch 27/150\n",
      "201/201 - 1s - loss: 0.0024\n",
      "Epoch 28/150\n",
      "201/201 - 1s - loss: 0.0028\n",
      "Epoch 29/150\n",
      "201/201 - 1s - loss: 0.0025\n",
      "Epoch 30/150\n",
      "201/201 - 1s - loss: 0.0027\n",
      "Epoch 31/150\n",
      "201/201 - 1s - loss: 0.0025\n",
      "Epoch 32/150\n",
      "201/201 - 1s - loss: 0.0025\n",
      "Epoch 33/150\n",
      "201/201 - 1s - loss: 0.0026\n",
      "Epoch 34/150\n",
      "201/201 - 1s - loss: 0.0024\n",
      "Epoch 35/150\n",
      "201/201 - 1s - loss: 0.0027\n",
      "Epoch 36/150\n",
      "201/201 - 1s - loss: 0.0028\n",
      "Epoch 37/150\n",
      "201/201 - 1s - loss: 0.0027\n",
      "Epoch 38/150\n",
      "201/201 - 1s - loss: 0.0024\n",
      "Epoch 39/150\n",
      "201/201 - 1s - loss: 0.0028\n",
      "Epoch 40/150\n",
      "201/201 - 1s - loss: 0.0025\n",
      "Epoch 41/150\n",
      "201/201 - 1s - loss: 0.0024\n",
      "Epoch 42/150\n",
      "201/201 - 1s - loss: 0.0026\n",
      "Epoch 43/150\n",
      "201/201 - 1s - loss: 0.0025\n",
      "Epoch 44/150\n",
      "201/201 - 1s - loss: 0.0027\n",
      "Epoch 45/150\n",
      "201/201 - 1s - loss: 0.0025\n",
      "Epoch 46/150\n",
      "201/201 - 1s - loss: 0.0025\n",
      "Epoch 47/150\n",
      "201/201 - 1s - loss: 0.0024\n",
      "Epoch 48/150\n",
      "201/201 - 1s - loss: 0.0024\n",
      "Epoch 49/150\n",
      "201/201 - 1s - loss: 0.0023\n",
      "Epoch 50/150\n",
      "201/201 - 1s - loss: 0.0024\n",
      "Epoch 51/150\n",
      "201/201 - 1s - loss: 0.0026\n",
      "Epoch 52/150\n",
      "201/201 - 1s - loss: 0.0026\n",
      "Epoch 53/150\n",
      "201/201 - 1s - loss: 0.0024\n",
      "Epoch 54/150\n",
      "201/201 - 1s - loss: 0.0028\n",
      "Epoch 55/150\n",
      "201/201 - 1s - loss: 0.0023\n",
      "Epoch 56/150\n",
      "201/201 - 1s - loss: 0.0027\n",
      "Epoch 57/150\n",
      "201/201 - 1s - loss: 0.0026\n",
      "Epoch 58/150\n",
      "201/201 - 1s - loss: 0.0024\n",
      "Epoch 59/150\n",
      "201/201 - 1s - loss: 0.0024\n",
      "Epoch 60/150\n",
      "201/201 - 1s - loss: 0.0023\n",
      "Epoch 61/150\n",
      "201/201 - 1s - loss: 0.0024\n",
      "Epoch 62/150\n",
      "201/201 - 1s - loss: 0.0026\n",
      "Epoch 63/150\n",
      "201/201 - 1s - loss: 0.0025\n",
      "Epoch 64/150\n",
      "201/201 - 1s - loss: 0.0026\n",
      "Epoch 65/150\n",
      "201/201 - 1s - loss: 0.0026\n",
      "Epoch 66/150\n",
      "201/201 - 1s - loss: 0.0024\n",
      "Epoch 67/150\n",
      "201/201 - 1s - loss: 0.0025\n",
      "Epoch 68/150\n",
      "201/201 - 1s - loss: 0.0025\n",
      "Epoch 69/150\n",
      "201/201 - 1s - loss: 0.0024\n",
      "Epoch 70/150\n",
      "201/201 - 1s - loss: 0.0023\n",
      "Epoch 71/150\n",
      "201/201 - 1s - loss: 0.0023\n",
      "Epoch 72/150\n",
      "201/201 - 1s - loss: 0.0024\n",
      "Epoch 73/150\n",
      "201/201 - 1s - loss: 0.0024\n",
      "Epoch 74/150\n",
      "201/201 - 1s - loss: 0.0024\n",
      "Epoch 75/150\n",
      "201/201 - 1s - loss: 0.0024\n",
      "Epoch 76/150\n",
      "201/201 - 1s - loss: 0.0025\n",
      "Epoch 77/150\n",
      "201/201 - 1s - loss: 0.0024\n",
      "Epoch 78/150\n",
      "201/201 - 1s - loss: 0.0024\n",
      "Epoch 79/150\n",
      "201/201 - 1s - loss: 0.0024\n",
      "Epoch 80/150\n",
      "201/201 - 1s - loss: 0.0026\n",
      "Epoch 81/150\n",
      "201/201 - 1s - loss: 0.0023\n",
      "Epoch 82/150\n",
      "201/201 - 1s - loss: 0.0024\n",
      "Epoch 83/150\n",
      "201/201 - 1s - loss: 0.0025\n",
      "Epoch 84/150\n",
      "201/201 - 1s - loss: 0.0027\n",
      "Epoch 85/150\n",
      "201/201 - 1s - loss: 0.0024\n",
      "Epoch 86/150\n",
      "201/201 - 1s - loss: 0.0024\n",
      "Epoch 87/150\n",
      "201/201 - 1s - loss: 0.0023\n",
      "Epoch 88/150\n",
      "201/201 - 1s - loss: 0.0025\n",
      "Epoch 89/150\n",
      "201/201 - 1s - loss: 0.0024\n",
      "Epoch 90/150\n",
      "201/201 - 1s - loss: 0.0026\n",
      "Epoch 91/150\n",
      "201/201 - 1s - loss: 0.0025\n",
      "Epoch 92/150\n",
      "201/201 - 1s - loss: 0.0023\n",
      "Epoch 93/150\n",
      "201/201 - 1s - loss: 0.0024\n",
      "Epoch 94/150\n",
      "201/201 - 1s - loss: 0.0024\n",
      "Epoch 95/150\n",
      "201/201 - 1s - loss: 0.0025\n",
      "Epoch 96/150\n",
      "201/201 - 1s - loss: 0.0025\n",
      "Epoch 97/150\n",
      "201/201 - 1s - loss: 0.0027\n",
      "Epoch 98/150\n",
      "201/201 - 1s - loss: 0.0022\n",
      "Epoch 99/150\n",
      "201/201 - 1s - loss: 0.0025\n",
      "Epoch 100/150\n",
      "201/201 - 1s - loss: 0.0026\n",
      "Epoch 101/150\n",
      "201/201 - 1s - loss: 0.0023\n",
      "Epoch 102/150\n",
      "201/201 - 1s - loss: 0.0024\n",
      "Epoch 103/150\n",
      "201/201 - 1s - loss: 0.0025\n",
      "Epoch 104/150\n",
      "201/201 - 1s - loss: 0.0026\n",
      "Epoch 105/150\n",
      "201/201 - 1s - loss: 0.0024\n",
      "Epoch 106/150\n",
      "201/201 - 1s - loss: 0.0024\n",
      "Epoch 107/150\n",
      "201/201 - 1s - loss: 0.0026\n",
      "Epoch 108/150\n",
      "201/201 - 1s - loss: 0.0024\n",
      "Epoch 109/150\n",
      "201/201 - 1s - loss: 0.0024\n",
      "Epoch 110/150\n",
      "201/201 - 1s - loss: 0.0024\n",
      "Epoch 111/150\n",
      "201/201 - 1s - loss: 0.0024\n",
      "Epoch 112/150\n",
      "201/201 - 1s - loss: 0.0025\n",
      "Epoch 113/150\n",
      "201/201 - 1s - loss: 0.0024\n",
      "Epoch 114/150\n",
      "201/201 - 1s - loss: 0.0025\n",
      "Epoch 115/150\n",
      "201/201 - 1s - loss: 0.0025\n",
      "Epoch 116/150\n",
      "201/201 - 1s - loss: 0.0026\n",
      "Epoch 117/150\n",
      "201/201 - 1s - loss: 0.0023\n",
      "Epoch 118/150\n",
      "201/201 - 1s - loss: 0.0023\n",
      "Epoch 119/150\n",
      "201/201 - 1s - loss: 0.0025\n",
      "Epoch 120/150\n",
      "201/201 - 1s - loss: 0.0024\n",
      "Epoch 121/150\n",
      "201/201 - 1s - loss: 0.0025\n",
      "Epoch 122/150\n",
      "201/201 - 1s - loss: 0.0026\n",
      "Epoch 123/150\n",
      "201/201 - 1s - loss: 0.0023\n",
      "Epoch 124/150\n",
      "201/201 - 1s - loss: 0.0025\n",
      "Epoch 125/150\n",
      "201/201 - 1s - loss: 0.0024\n",
      "Epoch 126/150\n",
      "201/201 - 1s - loss: 0.0023\n",
      "Epoch 127/150\n",
      "201/201 - 1s - loss: 0.0023\n",
      "Epoch 128/150\n",
      "201/201 - 1s - loss: 0.0024\n",
      "Epoch 129/150\n",
      "201/201 - 1s - loss: 0.0023\n",
      "Epoch 130/150\n",
      "201/201 - 1s - loss: 0.0023\n",
      "Epoch 131/150\n",
      "201/201 - 1s - loss: 0.0023\n",
      "Epoch 132/150\n",
      "201/201 - 1s - loss: 0.0022\n",
      "Epoch 133/150\n",
      "201/201 - 1s - loss: 0.0024\n",
      "Epoch 134/150\n",
      "201/201 - 1s - loss: 0.0025\n",
      "Epoch 135/150\n",
      "201/201 - 1s - loss: 0.0024\n",
      "Epoch 136/150\n",
      "201/201 - 1s - loss: 0.0023\n",
      "Epoch 137/150\n",
      "201/201 - 1s - loss: 0.0022\n",
      "Epoch 138/150\n",
      "201/201 - 1s - loss: 0.0023\n",
      "Epoch 139/150\n",
      "201/201 - 1s - loss: 0.0024\n",
      "Epoch 140/150\n",
      "201/201 - 1s - loss: 0.0022\n",
      "Epoch 141/150\n",
      "201/201 - 1s - loss: 0.0023\n",
      "Epoch 142/150\n",
      "201/201 - 1s - loss: 0.0024\n",
      "Epoch 143/150\n",
      "201/201 - 1s - loss: 0.0024\n",
      "Epoch 144/150\n",
      "201/201 - 1s - loss: 0.0021\n",
      "Epoch 145/150\n",
      "201/201 - 1s - loss: 0.0023\n",
      "Epoch 146/150\n",
      "201/201 - 1s - loss: 0.0023\n",
      "Epoch 147/150\n",
      "201/201 - 1s - loss: 0.0022\n",
      "Epoch 148/150\n",
      "201/201 - 1s - loss: 0.0022\n",
      "Epoch 149/150\n",
      "201/201 - 1s - loss: 0.0024\n",
      "Epoch 150/150\n",
      "201/201 - 1s - loss: 0.0023\n"
     ]
    },
    {
     "data": {
      "text/plain": [
       "<keras.callbacks.History at 0x162b9f81820>"
      ]
     },
     "execution_count": 13,
     "metadata": {},
     "output_type": "execute_result"
    }
   ],
   "source": [
    "# MODEL COMPILING AND TRAINING\n",
    "model.compile(loss='mean_squared_error', optimizer='adam') # Try SGD, adam, adagrad and compare!!!\n",
    "model.fit(trainX, trainY, epochs=150, batch_size=10, verbose=2)"
   ]
  },
  {
   "cell_type": "code",
   "execution_count": 14,
   "id": "dbcd83f0",
   "metadata": {},
   "outputs": [],
   "source": [
    "# PREDICTION\n",
    "trainPredict = model.predict(trainX)\n",
    "testPredict = model.predict(testX)"
   ]
  },
  {
   "cell_type": "code",
   "execution_count": 15,
   "id": "7eb35e8a",
   "metadata": {},
   "outputs": [],
   "source": [
    "# DE-NORMALIZING FOR PLOTTING\n",
    "trainPredict = scaler.inverse_transform(trainPredict)\n",
    "trainY = scaler.inverse_transform([trainY])\n",
    "testPredict = scaler.inverse_transform(testPredict)\n",
    "testY = scaler.inverse_transform([testY])"
   ]
  },
  {
   "cell_type": "code",
   "execution_count": 16,
   "id": "f9d0cb79",
   "metadata": {
    "scrolled": true
   },
   "outputs": [
    {
     "name": "stdout",
     "output_type": "stream",
     "text": [
      "Train RMSE: 11.42\n",
      "Test RMSE: 46.69\n"
     ]
    }
   ],
   "source": [
    "# TRAINING RMSE\n",
    "trainScore = math.sqrt(mean_squared_error(trainY[0], trainPredict[:,0]))\n",
    "print('Train RMSE: %.2f' % (trainScore))\n",
    "\n",
    "# TEST RMSE\n",
    "testScore = math.sqrt(mean_squared_error(testY[0], testPredict[:,0]))\n",
    "print('Test RMSE: %.2f' % (testScore))"
   ]
  },
  {
   "cell_type": "code",
   "execution_count": 17,
   "id": "a4e993c9",
   "metadata": {},
   "outputs": [],
   "source": [
    "# CREATING SIMILAR DATASET TO PLOT TRAINING PREDICTIONS\n",
    "trainPredictPlot = np.empty_like(OHLC_avg)\n",
    "trainPredictPlot[:, :] = np.nan\n",
    "trainPredictPlot[step_size:len(trainPredict)+step_size, :] = trainPredict\n",
    "\n",
    "# CREATING SIMILAR DATASSET TO PLOT TEST PREDICTIONS\n",
    "testPredictPlot = np.empty_like(OHLC_avg)\n",
    "testPredictPlot[:, :] = np.nan\n",
    "testPredictPlot[step_size: len(testPredict)+step_size, :] = testPredict"
   ]
  },
  {
   "cell_type": "code",
   "execution_count": 18,
   "id": "27fecfca",
   "metadata": {},
   "outputs": [],
   "source": [
    "# DE-NORMALIZING MAIN DATASET \n",
    "OHLC_avg_train = scaler.inverse_transform(OHLC_avg_train)\n",
    "\n",
    "OHLC_avg_test = scaler.inverse_transform(OHLC_avg_test)\n",
    "OHLC_avg = scaler.inverse_transform(OHLC_avg)"
   ]
  },
  {
   "cell_type": "code",
   "execution_count": 19,
   "id": "5871a77b",
   "metadata": {},
   "outputs": [
    {
     "data": {
      "image/png": "[encoded data removed]",
      "text/plain": [
       "<Figure size 432x288 with 1 Axes>"
      ]
     },
     "metadata": {
      "needs_background": "light"
     },
     "output_type": "display_data"
    }
   ],
   "source": [
    "# PLOT OF MAIN OHLC VALUES, TRAIN PREDICTIONS AND TEST PREDICTIONS\n",
    "plt.plot(OHLC_avg_train, 'g', label = 'original dataset')\n",
    "plt.plot(trainPredictPlot, 'r', label = 'training set')\n",
    "plt.legend(loc = 'upper left')\n",
    "plt.xlabel('Time in Days')\n",
    "plt.ylabel('OHLC Value of training set Amazon Stocks')\n",
    "plt.show()"
   ]
  },
  {
   "cell_type": "code",
   "execution_count": 20,
   "id": "2979ad11",
   "metadata": {},
   "outputs": [
    {
     "data": {
      "image/png": "[encoded data removed]",
      "text/plain": [
       "<Figure size 432x288 with 1 Axes>"
      ]
     },
     "metadata": {
      "needs_background": "light"
     },
     "output_type": "display_data"
    }
   ],
   "source": [
    "plt.plot(OHLC_avg_test, 'g', label = 'original dataset')\n",
    "plt.plot(testPredictPlot, 'b', label = 'predicted stock price/test set')\n",
    "plt.legend(loc = 'upper left')\n",
    "plt.xlabel('Time in Days')\n",
    "plt.ylabel('OHLC Value of testing set Amazon Stocks')\n",
    "plt.show()"
   ]
  },
  {
   "cell_type": "code",
   "execution_count": 21,
   "id": "7ee8956e",
   "metadata": {},
   "outputs": [
    {
     "name": "stdout",
     "output_type": "stream",
     "text": [
      "2021-10-01 00:00:00 Predicted Value: 3324.330322265625\n",
      "Actual value: 3284.3449707031245\n",
      "Difference value: 39.985351562500455\n",
      "Next Day Value: 3088.37158203125\n"
     ]
    },
    {
     "name": "stderr",
     "output_type": "stream",
     "text": [
      "<ipython-input-21-87e4489de2a8>:7: DeprecationWarning: np.asscalar(a) is deprecated since NumPy v1.16, use a.item() instead\n",
      "  print (test_dates[-1],\"Predicted Value:\", np.asscalar(last_val))\n",
      "<ipython-input-21-87e4489de2a8>:8: DeprecationWarning: np.asscalar(a) is deprecated since NumPy v1.16, use a.item() instead\n",
      "  print (\"Actual value:\",np.asscalar(actual_val))\n",
      "<ipython-input-21-87e4489de2a8>:9: DeprecationWarning: np.asscalar(a) is deprecated since NumPy v1.16, use a.item() instead\n",
      "  print (\"Difference value:\", np.asscalar(diff))\n",
      "<ipython-input-21-87e4489de2a8>:10: DeprecationWarning: np.asscalar(a) is deprecated since NumPy v1.16, use a.item() instead\n",
      "  print (\"Next Day Value:\", np.asscalar(last_val*next_val))\n"
     ]
    }
   ],
   "source": [
    "# PREDICT FUTURE VALUES\n",
    "last_val = testPredict[-1]\n",
    "last_val_scaled = last_val/last_val\n",
    "actual_val = OHLC_avg_test[-1]\n",
    "diff = abs(last_val-actual_val)\n",
    "next_val = model.predict(np.reshape(last_val_scaled, (1,1,1)))\n",
    "print (test_dates[-1],\"Predicted Value:\", np.asscalar(last_val))\n",
    "print (\"Actual value:\",np.asscalar(actual_val))\n",
    "print (\"Difference value:\", np.asscalar(diff))\n",
    "print (\"Next Day Value:\", np.asscalar(last_val*next_val))\n",
    "# print np.append(last_val, next_val)"
   ]
  },
  {
   "cell_type": "code",
   "execution_count": null,
   "id": "24fa00a1",
   "metadata": {},
   "outputs": [],
   "source": []
  }
 ],
 "metadata": {
  "kernelspec": {
   "display_name": "Python 3",
   "language": "python",
   "name": "python3"
  },
  "language_info": {
   "codemirror_mode": {
    "name": "ipython",
    "version": 3
   },
   "file_extension": ".py",
   "mimetype": "text/x-python",
   "name": "python",
   "nbconvert_exporter": "python",
   "pygments_lexer": "ipython3",
   "version": "3.8.8"
  }
 },
 "nbformat": 4,
 "nbformat_minor": 5
}
